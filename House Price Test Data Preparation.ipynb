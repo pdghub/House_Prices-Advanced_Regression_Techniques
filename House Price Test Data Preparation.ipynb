{
 "cells": [
  {
   "cell_type": "code",
   "execution_count": 1,
   "metadata": {},
   "outputs": [],
   "source": [
    "import numpy as np\n",
    "import pandas as pd\n",
    "import sklearn\n",
    "import matplotlib.pyplot as plt\n",
    "import seaborn as sns\n",
    "\n",
    "%matplotlib inline"
   ]
  },
  {
   "cell_type": "code",
   "execution_count": 2,
   "metadata": {},
   "outputs": [],
   "source": [
    "test_data=pd.read_csv(\"test.csv\")"
   ]
  },
  {
   "cell_type": "code",
   "execution_count": 3,
   "metadata": {},
   "outputs": [
    {
     "data": {
      "text/html": [
       "<div>\n",
       "<style scoped>\n",
       "    .dataframe tbody tr th:only-of-type {\n",
       "        vertical-align: middle;\n",
       "    }\n",
       "\n",
       "    .dataframe tbody tr th {\n",
       "        vertical-align: top;\n",
       "    }\n",
       "\n",
       "    .dataframe thead th {\n",
       "        text-align: right;\n",
       "    }\n",
       "</style>\n",
       "<table border=\"1\" class=\"dataframe\">\n",
       "  <thead>\n",
       "    <tr style=\"text-align: right;\">\n",
       "      <th></th>\n",
       "      <th>Id</th>\n",
       "      <th>MSSubClass</th>\n",
       "      <th>MSZoning</th>\n",
       "      <th>LotFrontage</th>\n",
       "      <th>LotArea</th>\n",
       "      <th>Street</th>\n",
       "      <th>Alley</th>\n",
       "      <th>LotShape</th>\n",
       "      <th>LandContour</th>\n",
       "      <th>Utilities</th>\n",
       "      <th>...</th>\n",
       "      <th>ScreenPorch</th>\n",
       "      <th>PoolArea</th>\n",
       "      <th>PoolQC</th>\n",
       "      <th>Fence</th>\n",
       "      <th>MiscFeature</th>\n",
       "      <th>MiscVal</th>\n",
       "      <th>MoSold</th>\n",
       "      <th>YrSold</th>\n",
       "      <th>SaleType</th>\n",
       "      <th>SaleCondition</th>\n",
       "    </tr>\n",
       "  </thead>\n",
       "  <tbody>\n",
       "    <tr>\n",
       "      <th>0</th>\n",
       "      <td>1461</td>\n",
       "      <td>20</td>\n",
       "      <td>RH</td>\n",
       "      <td>80.0</td>\n",
       "      <td>11622</td>\n",
       "      <td>Pave</td>\n",
       "      <td>NaN</td>\n",
       "      <td>Reg</td>\n",
       "      <td>Lvl</td>\n",
       "      <td>AllPub</td>\n",
       "      <td>...</td>\n",
       "      <td>120</td>\n",
       "      <td>0</td>\n",
       "      <td>NaN</td>\n",
       "      <td>MnPrv</td>\n",
       "      <td>NaN</td>\n",
       "      <td>0</td>\n",
       "      <td>6</td>\n",
       "      <td>2010</td>\n",
       "      <td>WD</td>\n",
       "      <td>Normal</td>\n",
       "    </tr>\n",
       "    <tr>\n",
       "      <th>1</th>\n",
       "      <td>1462</td>\n",
       "      <td>20</td>\n",
       "      <td>RL</td>\n",
       "      <td>81.0</td>\n",
       "      <td>14267</td>\n",
       "      <td>Pave</td>\n",
       "      <td>NaN</td>\n",
       "      <td>IR1</td>\n",
       "      <td>Lvl</td>\n",
       "      <td>AllPub</td>\n",
       "      <td>...</td>\n",
       "      <td>0</td>\n",
       "      <td>0</td>\n",
       "      <td>NaN</td>\n",
       "      <td>NaN</td>\n",
       "      <td>Gar2</td>\n",
       "      <td>12500</td>\n",
       "      <td>6</td>\n",
       "      <td>2010</td>\n",
       "      <td>WD</td>\n",
       "      <td>Normal</td>\n",
       "    </tr>\n",
       "    <tr>\n",
       "      <th>2</th>\n",
       "      <td>1463</td>\n",
       "      <td>60</td>\n",
       "      <td>RL</td>\n",
       "      <td>74.0</td>\n",
       "      <td>13830</td>\n",
       "      <td>Pave</td>\n",
       "      <td>NaN</td>\n",
       "      <td>IR1</td>\n",
       "      <td>Lvl</td>\n",
       "      <td>AllPub</td>\n",
       "      <td>...</td>\n",
       "      <td>0</td>\n",
       "      <td>0</td>\n",
       "      <td>NaN</td>\n",
       "      <td>MnPrv</td>\n",
       "      <td>NaN</td>\n",
       "      <td>0</td>\n",
       "      <td>3</td>\n",
       "      <td>2010</td>\n",
       "      <td>WD</td>\n",
       "      <td>Normal</td>\n",
       "    </tr>\n",
       "    <tr>\n",
       "      <th>3</th>\n",
       "      <td>1464</td>\n",
       "      <td>60</td>\n",
       "      <td>RL</td>\n",
       "      <td>78.0</td>\n",
       "      <td>9978</td>\n",
       "      <td>Pave</td>\n",
       "      <td>NaN</td>\n",
       "      <td>IR1</td>\n",
       "      <td>Lvl</td>\n",
       "      <td>AllPub</td>\n",
       "      <td>...</td>\n",
       "      <td>0</td>\n",
       "      <td>0</td>\n",
       "      <td>NaN</td>\n",
       "      <td>NaN</td>\n",
       "      <td>NaN</td>\n",
       "      <td>0</td>\n",
       "      <td>6</td>\n",
       "      <td>2010</td>\n",
       "      <td>WD</td>\n",
       "      <td>Normal</td>\n",
       "    </tr>\n",
       "    <tr>\n",
       "      <th>4</th>\n",
       "      <td>1465</td>\n",
       "      <td>120</td>\n",
       "      <td>RL</td>\n",
       "      <td>43.0</td>\n",
       "      <td>5005</td>\n",
       "      <td>Pave</td>\n",
       "      <td>NaN</td>\n",
       "      <td>IR1</td>\n",
       "      <td>HLS</td>\n",
       "      <td>AllPub</td>\n",
       "      <td>...</td>\n",
       "      <td>144</td>\n",
       "      <td>0</td>\n",
       "      <td>NaN</td>\n",
       "      <td>NaN</td>\n",
       "      <td>NaN</td>\n",
       "      <td>0</td>\n",
       "      <td>1</td>\n",
       "      <td>2010</td>\n",
       "      <td>WD</td>\n",
       "      <td>Normal</td>\n",
       "    </tr>\n",
       "  </tbody>\n",
       "</table>\n",
       "<p>5 rows × 80 columns</p>\n",
       "</div>"
      ],
      "text/plain": [
       "     Id  MSSubClass MSZoning  LotFrontage  LotArea Street Alley LotShape  \\\n",
       "0  1461          20       RH         80.0    11622   Pave   NaN      Reg   \n",
       "1  1462          20       RL         81.0    14267   Pave   NaN      IR1   \n",
       "2  1463          60       RL         74.0    13830   Pave   NaN      IR1   \n",
       "3  1464          60       RL         78.0     9978   Pave   NaN      IR1   \n",
       "4  1465         120       RL         43.0     5005   Pave   NaN      IR1   \n",
       "\n",
       "  LandContour Utilities  ... ScreenPorch PoolArea PoolQC  Fence MiscFeature  \\\n",
       "0         Lvl    AllPub  ...         120        0    NaN  MnPrv         NaN   \n",
       "1         Lvl    AllPub  ...           0        0    NaN    NaN        Gar2   \n",
       "2         Lvl    AllPub  ...           0        0    NaN  MnPrv         NaN   \n",
       "3         Lvl    AllPub  ...           0        0    NaN    NaN         NaN   \n",
       "4         HLS    AllPub  ...         144        0    NaN    NaN         NaN   \n",
       "\n",
       "  MiscVal MoSold  YrSold  SaleType  SaleCondition  \n",
       "0       0      6    2010        WD         Normal  \n",
       "1   12500      6    2010        WD         Normal  \n",
       "2       0      3    2010        WD         Normal  \n",
       "3       0      6    2010        WD         Normal  \n",
       "4       0      1    2010        WD         Normal  \n",
       "\n",
       "[5 rows x 80 columns]"
      ]
     },
     "execution_count": 3,
     "metadata": {},
     "output_type": "execute_result"
    }
   ],
   "source": [
    "test_data.head()"
   ]
  },
  {
   "cell_type": "markdown",
   "metadata": {},
   "source": [
    "## Feature Engineering\n",
    "\n",
    "We will be performing all the below steps in Feature Engineering\n",
    "\n",
    "1. Missing values handling for both numerical & categorical Variable\n",
    "2. Temporal variables handling\n",
    "3. Categorical variables: remove rare labels\n",
    "4. Standarise the values of the variables to the same range"
   ]
  },
  {
   "cell_type": "markdown",
   "metadata": {},
   "source": [
    "1. Missing values handling for both numerical & categorical Variable\n",
    "\n",
    "\n",
    "a) Missing value handling for categorical feature:"
   ]
  },
  {
   "cell_type": "code",
   "execution_count": 4,
   "metadata": {},
   "outputs": [
    {
     "data": {
      "text/plain": [
       "['MSZoning',\n",
       " 'LotFrontage',\n",
       " 'Alley',\n",
       " 'Utilities',\n",
       " 'MasVnrType',\n",
       " 'MasVnrArea',\n",
       " 'BsmtQual',\n",
       " 'BsmtCond',\n",
       " 'BsmtExposure',\n",
       " 'BsmtFinType1',\n",
       " 'BsmtFinType2',\n",
       " 'BsmtFullBath',\n",
       " 'BsmtHalfBath',\n",
       " 'Functional',\n",
       " 'FireplaceQu',\n",
       " 'GarageType',\n",
       " 'GarageYrBlt',\n",
       " 'GarageFinish',\n",
       " 'GarageQual',\n",
       " 'GarageCond',\n",
       " 'PoolQC',\n",
       " 'Fence',\n",
       " 'MiscFeature']"
      ]
     },
     "execution_count": 4,
     "metadata": {},
     "output_type": "execute_result"
    }
   ],
   "source": [
    "# 1st to check whether there is any missing value in the whole dataset or not:\n",
    "na_value_check=[feature for feature in test_data.columns if test_data[feature].isnull().sum()>1]\n",
    "na_value_check"
   ]
  },
  {
   "cell_type": "code",
   "execution_count": 5,
   "metadata": {},
   "outputs": [
    {
     "name": "stdout",
     "output_type": "stream",
     "text": [
      "MSZoning has total 0.0027 numbers of missing value\n",
      "Alley has total 0.9267 numbers of missing value\n",
      "Utilities has total 0.0014 numbers of missing value\n",
      "MasVnrType has total 0.011 numbers of missing value\n",
      "BsmtQual has total 0.0302 numbers of missing value\n",
      "BsmtCond has total 0.0308 numbers of missing value\n",
      "BsmtExposure has total 0.0302 numbers of missing value\n",
      "BsmtFinType1 has total 0.0288 numbers of missing value\n",
      "BsmtFinType2 has total 0.0288 numbers of missing value\n",
      "Functional has total 0.0014 numbers of missing value\n",
      "FireplaceQu has total 0.5003 numbers of missing value\n",
      "GarageType has total 0.0521 numbers of missing value\n",
      "GarageFinish has total 0.0535 numbers of missing value\n",
      "GarageQual has total 0.0535 numbers of missing value\n",
      "GarageCond has total 0.0535 numbers of missing value\n",
      "PoolQC has total 0.9979 numbers of missing value\n",
      "Fence has total 0.8012 numbers of missing value\n",
      "MiscFeature has total 0.965 numbers of missing value\n"
     ]
    }
   ],
   "source": [
    "#2. now check for categorical value:\n",
    "\n",
    "cat_var=[feature for feature in test_data if test_data[feature].dtype ==\"O\"]\n",
    "\n",
    "#3. now check whether there is any missing val or not:\n",
    "cat_na=[feature for feature in cat_var if test_data[feature].isnull().sum()>1]\n",
    "\n",
    "#4 show how many is missing value:\n",
    "for feature in cat_na:\n",
    "    print(f\"{feature} has total {np.around(test_data[feature].isnull().sum()/len(test_data[feature]),4)} numbers of missing value\")"
   ]
  },
  {
   "cell_type": "code",
   "execution_count": 6,
   "metadata": {},
   "outputs": [],
   "source": [
    "for feature in cat_na:\n",
    "    test_data[feature]=test_data[feature].fillna(\"Missing\")"
   ]
  },
  {
   "cell_type": "code",
   "execution_count": 7,
   "metadata": {},
   "outputs": [
    {
     "data": {
      "text/html": [
       "<div>\n",
       "<style scoped>\n",
       "    .dataframe tbody tr th:only-of-type {\n",
       "        vertical-align: middle;\n",
       "    }\n",
       "\n",
       "    .dataframe tbody tr th {\n",
       "        vertical-align: top;\n",
       "    }\n",
       "\n",
       "    .dataframe thead th {\n",
       "        text-align: right;\n",
       "    }\n",
       "</style>\n",
       "<table border=\"1\" class=\"dataframe\">\n",
       "  <thead>\n",
       "    <tr style=\"text-align: right;\">\n",
       "      <th></th>\n",
       "      <th>MSZoning</th>\n",
       "      <th>Alley</th>\n",
       "      <th>Utilities</th>\n",
       "      <th>MasVnrType</th>\n",
       "      <th>BsmtQual</th>\n",
       "      <th>BsmtCond</th>\n",
       "      <th>BsmtExposure</th>\n",
       "      <th>BsmtFinType1</th>\n",
       "      <th>BsmtFinType2</th>\n",
       "      <th>Functional</th>\n",
       "      <th>FireplaceQu</th>\n",
       "      <th>GarageType</th>\n",
       "      <th>GarageFinish</th>\n",
       "      <th>GarageQual</th>\n",
       "      <th>GarageCond</th>\n",
       "      <th>PoolQC</th>\n",
       "      <th>Fence</th>\n",
       "      <th>MiscFeature</th>\n",
       "    </tr>\n",
       "  </thead>\n",
       "  <tbody>\n",
       "    <tr>\n",
       "      <th>0</th>\n",
       "      <td>RH</td>\n",
       "      <td>Missing</td>\n",
       "      <td>AllPub</td>\n",
       "      <td>None</td>\n",
       "      <td>TA</td>\n",
       "      <td>TA</td>\n",
       "      <td>No</td>\n",
       "      <td>Rec</td>\n",
       "      <td>LwQ</td>\n",
       "      <td>Typ</td>\n",
       "      <td>Missing</td>\n",
       "      <td>Attchd</td>\n",
       "      <td>Unf</td>\n",
       "      <td>TA</td>\n",
       "      <td>TA</td>\n",
       "      <td>Missing</td>\n",
       "      <td>MnPrv</td>\n",
       "      <td>Missing</td>\n",
       "    </tr>\n",
       "    <tr>\n",
       "      <th>1</th>\n",
       "      <td>RL</td>\n",
       "      <td>Missing</td>\n",
       "      <td>AllPub</td>\n",
       "      <td>BrkFace</td>\n",
       "      <td>TA</td>\n",
       "      <td>TA</td>\n",
       "      <td>No</td>\n",
       "      <td>ALQ</td>\n",
       "      <td>Unf</td>\n",
       "      <td>Typ</td>\n",
       "      <td>Missing</td>\n",
       "      <td>Attchd</td>\n",
       "      <td>Unf</td>\n",
       "      <td>TA</td>\n",
       "      <td>TA</td>\n",
       "      <td>Missing</td>\n",
       "      <td>Missing</td>\n",
       "      <td>Gar2</td>\n",
       "    </tr>\n",
       "    <tr>\n",
       "      <th>2</th>\n",
       "      <td>RL</td>\n",
       "      <td>Missing</td>\n",
       "      <td>AllPub</td>\n",
       "      <td>None</td>\n",
       "      <td>Gd</td>\n",
       "      <td>TA</td>\n",
       "      <td>No</td>\n",
       "      <td>GLQ</td>\n",
       "      <td>Unf</td>\n",
       "      <td>Typ</td>\n",
       "      <td>TA</td>\n",
       "      <td>Attchd</td>\n",
       "      <td>Fin</td>\n",
       "      <td>TA</td>\n",
       "      <td>TA</td>\n",
       "      <td>Missing</td>\n",
       "      <td>MnPrv</td>\n",
       "      <td>Missing</td>\n",
       "    </tr>\n",
       "    <tr>\n",
       "      <th>3</th>\n",
       "      <td>RL</td>\n",
       "      <td>Missing</td>\n",
       "      <td>AllPub</td>\n",
       "      <td>BrkFace</td>\n",
       "      <td>TA</td>\n",
       "      <td>TA</td>\n",
       "      <td>No</td>\n",
       "      <td>GLQ</td>\n",
       "      <td>Unf</td>\n",
       "      <td>Typ</td>\n",
       "      <td>Gd</td>\n",
       "      <td>Attchd</td>\n",
       "      <td>Fin</td>\n",
       "      <td>TA</td>\n",
       "      <td>TA</td>\n",
       "      <td>Missing</td>\n",
       "      <td>Missing</td>\n",
       "      <td>Missing</td>\n",
       "    </tr>\n",
       "    <tr>\n",
       "      <th>4</th>\n",
       "      <td>RL</td>\n",
       "      <td>Missing</td>\n",
       "      <td>AllPub</td>\n",
       "      <td>None</td>\n",
       "      <td>Gd</td>\n",
       "      <td>TA</td>\n",
       "      <td>No</td>\n",
       "      <td>ALQ</td>\n",
       "      <td>Unf</td>\n",
       "      <td>Typ</td>\n",
       "      <td>Missing</td>\n",
       "      <td>Attchd</td>\n",
       "      <td>RFn</td>\n",
       "      <td>TA</td>\n",
       "      <td>TA</td>\n",
       "      <td>Missing</td>\n",
       "      <td>Missing</td>\n",
       "      <td>Missing</td>\n",
       "    </tr>\n",
       "    <tr>\n",
       "      <th>...</th>\n",
       "      <td>...</td>\n",
       "      <td>...</td>\n",
       "      <td>...</td>\n",
       "      <td>...</td>\n",
       "      <td>...</td>\n",
       "      <td>...</td>\n",
       "      <td>...</td>\n",
       "      <td>...</td>\n",
       "      <td>...</td>\n",
       "      <td>...</td>\n",
       "      <td>...</td>\n",
       "      <td>...</td>\n",
       "      <td>...</td>\n",
       "      <td>...</td>\n",
       "      <td>...</td>\n",
       "      <td>...</td>\n",
       "      <td>...</td>\n",
       "      <td>...</td>\n",
       "    </tr>\n",
       "    <tr>\n",
       "      <th>1454</th>\n",
       "      <td>RM</td>\n",
       "      <td>Missing</td>\n",
       "      <td>AllPub</td>\n",
       "      <td>None</td>\n",
       "      <td>TA</td>\n",
       "      <td>TA</td>\n",
       "      <td>No</td>\n",
       "      <td>Unf</td>\n",
       "      <td>Unf</td>\n",
       "      <td>Typ</td>\n",
       "      <td>Missing</td>\n",
       "      <td>Missing</td>\n",
       "      <td>Missing</td>\n",
       "      <td>Missing</td>\n",
       "      <td>Missing</td>\n",
       "      <td>Missing</td>\n",
       "      <td>Missing</td>\n",
       "      <td>Missing</td>\n",
       "    </tr>\n",
       "    <tr>\n",
       "      <th>1455</th>\n",
       "      <td>RM</td>\n",
       "      <td>Missing</td>\n",
       "      <td>AllPub</td>\n",
       "      <td>None</td>\n",
       "      <td>TA</td>\n",
       "      <td>TA</td>\n",
       "      <td>No</td>\n",
       "      <td>Rec</td>\n",
       "      <td>Unf</td>\n",
       "      <td>Typ</td>\n",
       "      <td>Missing</td>\n",
       "      <td>CarPort</td>\n",
       "      <td>Unf</td>\n",
       "      <td>TA</td>\n",
       "      <td>TA</td>\n",
       "      <td>Missing</td>\n",
       "      <td>Missing</td>\n",
       "      <td>Missing</td>\n",
       "    </tr>\n",
       "    <tr>\n",
       "      <th>1456</th>\n",
       "      <td>RL</td>\n",
       "      <td>Missing</td>\n",
       "      <td>AllPub</td>\n",
       "      <td>None</td>\n",
       "      <td>TA</td>\n",
       "      <td>TA</td>\n",
       "      <td>No</td>\n",
       "      <td>ALQ</td>\n",
       "      <td>Unf</td>\n",
       "      <td>Typ</td>\n",
       "      <td>TA</td>\n",
       "      <td>Detchd</td>\n",
       "      <td>Unf</td>\n",
       "      <td>TA</td>\n",
       "      <td>TA</td>\n",
       "      <td>Missing</td>\n",
       "      <td>Missing</td>\n",
       "      <td>Missing</td>\n",
       "    </tr>\n",
       "    <tr>\n",
       "      <th>1457</th>\n",
       "      <td>RL</td>\n",
       "      <td>Missing</td>\n",
       "      <td>AllPub</td>\n",
       "      <td>None</td>\n",
       "      <td>Gd</td>\n",
       "      <td>TA</td>\n",
       "      <td>Av</td>\n",
       "      <td>GLQ</td>\n",
       "      <td>Unf</td>\n",
       "      <td>Typ</td>\n",
       "      <td>Missing</td>\n",
       "      <td>Missing</td>\n",
       "      <td>Missing</td>\n",
       "      <td>Missing</td>\n",
       "      <td>Missing</td>\n",
       "      <td>Missing</td>\n",
       "      <td>MnPrv</td>\n",
       "      <td>Shed</td>\n",
       "    </tr>\n",
       "    <tr>\n",
       "      <th>1458</th>\n",
       "      <td>RL</td>\n",
       "      <td>Missing</td>\n",
       "      <td>AllPub</td>\n",
       "      <td>BrkFace</td>\n",
       "      <td>Gd</td>\n",
       "      <td>TA</td>\n",
       "      <td>Av</td>\n",
       "      <td>LwQ</td>\n",
       "      <td>Unf</td>\n",
       "      <td>Typ</td>\n",
       "      <td>TA</td>\n",
       "      <td>Attchd</td>\n",
       "      <td>Fin</td>\n",
       "      <td>TA</td>\n",
       "      <td>TA</td>\n",
       "      <td>Missing</td>\n",
       "      <td>Missing</td>\n",
       "      <td>Missing</td>\n",
       "    </tr>\n",
       "  </tbody>\n",
       "</table>\n",
       "<p>1459 rows × 18 columns</p>\n",
       "</div>"
      ],
      "text/plain": [
       "     MSZoning    Alley Utilities MasVnrType BsmtQual BsmtCond BsmtExposure  \\\n",
       "0          RH  Missing    AllPub       None       TA       TA           No   \n",
       "1          RL  Missing    AllPub    BrkFace       TA       TA           No   \n",
       "2          RL  Missing    AllPub       None       Gd       TA           No   \n",
       "3          RL  Missing    AllPub    BrkFace       TA       TA           No   \n",
       "4          RL  Missing    AllPub       None       Gd       TA           No   \n",
       "...       ...      ...       ...        ...      ...      ...          ...   \n",
       "1454       RM  Missing    AllPub       None       TA       TA           No   \n",
       "1455       RM  Missing    AllPub       None       TA       TA           No   \n",
       "1456       RL  Missing    AllPub       None       TA       TA           No   \n",
       "1457       RL  Missing    AllPub       None       Gd       TA           Av   \n",
       "1458       RL  Missing    AllPub    BrkFace       Gd       TA           Av   \n",
       "\n",
       "     BsmtFinType1 BsmtFinType2 Functional FireplaceQu GarageType GarageFinish  \\\n",
       "0             Rec          LwQ        Typ     Missing     Attchd          Unf   \n",
       "1             ALQ          Unf        Typ     Missing     Attchd          Unf   \n",
       "2             GLQ          Unf        Typ          TA     Attchd          Fin   \n",
       "3             GLQ          Unf        Typ          Gd     Attchd          Fin   \n",
       "4             ALQ          Unf        Typ     Missing     Attchd          RFn   \n",
       "...           ...          ...        ...         ...        ...          ...   \n",
       "1454          Unf          Unf        Typ     Missing    Missing      Missing   \n",
       "1455          Rec          Unf        Typ     Missing    CarPort          Unf   \n",
       "1456          ALQ          Unf        Typ          TA     Detchd          Unf   \n",
       "1457          GLQ          Unf        Typ     Missing    Missing      Missing   \n",
       "1458          LwQ          Unf        Typ          TA     Attchd          Fin   \n",
       "\n",
       "     GarageQual GarageCond   PoolQC    Fence MiscFeature  \n",
       "0            TA         TA  Missing    MnPrv     Missing  \n",
       "1            TA         TA  Missing  Missing        Gar2  \n",
       "2            TA         TA  Missing    MnPrv     Missing  \n",
       "3            TA         TA  Missing  Missing     Missing  \n",
       "4            TA         TA  Missing  Missing     Missing  \n",
       "...         ...        ...      ...      ...         ...  \n",
       "1454    Missing    Missing  Missing  Missing     Missing  \n",
       "1455         TA         TA  Missing  Missing     Missing  \n",
       "1456         TA         TA  Missing  Missing     Missing  \n",
       "1457    Missing    Missing  Missing    MnPrv        Shed  \n",
       "1458         TA         TA  Missing  Missing     Missing  \n",
       "\n",
       "[1459 rows x 18 columns]"
      ]
     },
     "execution_count": 7,
     "metadata": {},
     "output_type": "execute_result"
    }
   ],
   "source": [
    "test_data[cat_na]"
   ]
  },
  {
   "cell_type": "markdown",
   "metadata": {},
   "source": [
    "\n",
    "\n",
    "b) Missing value handling for numerical feature:"
   ]
  },
  {
   "cell_type": "code",
   "execution_count": 8,
   "metadata": {},
   "outputs": [
    {
     "name": "stdout",
     "output_type": "stream",
     "text": [
      "LotFrontage has total 0.1556 numbers of missing value\n",
      "MasVnrArea has total 0.0103 numbers of missing value\n",
      "BsmtFullBath has total 0.0014 numbers of missing value\n",
      "BsmtHalfBath has total 0.0014 numbers of missing value\n",
      "GarageYrBlt has total 0.0535 numbers of missing value\n"
     ]
    }
   ],
   "source": [
    "#1. check for numerical value:\n",
    "\n",
    "num_var=[feature for feature in test_data if test_data[feature].dtype !=\"O\"]\n",
    "\n",
    "#2. now check whether there is any missing val or not:\n",
    "num_na=[feature for feature in num_var if test_data[feature].isnull().sum()>1]\n",
    "\n",
    "#4 show how many is missing value:\n",
    "for feature in num_na:\n",
    "    print(f\"{feature} has total {np.around(test_data[feature].isnull().mean(),4)} numbers of missing value\")"
   ]
  },
  {
   "cell_type": "code",
   "execution_count": 9,
   "metadata": {},
   "outputs": [
    {
     "data": {
      "text/plain": [
       "LotFrontage     0\n",
       "MasVnrArea      0\n",
       "BsmtFullBath    0\n",
       "BsmtHalfBath    0\n",
       "GarageYrBlt     0\n",
       "dtype: int64"
      ]
     },
     "execution_count": 9,
     "metadata": {},
     "output_type": "execute_result"
    }
   ],
   "source": [
    "for feature in num_na:\n",
    "    ## We will replace by using median since there are outliers\n",
    "    median_value=test_data[feature].median()\n",
    "    \n",
    "    ## create a new feature to capture nan values\n",
    "    test_data[feature+'nan']=np.where(test_data[feature].isnull(),1,0)\n",
    "    test_data[feature].fillna(median_value,inplace=True)\n",
    "    \n",
    "test_data[num_na].isnull().sum()"
   ]
  },
  {
   "cell_type": "markdown",
   "metadata": {},
   "source": [
    "2. Temporal Variable handling:"
   ]
  },
  {
   "cell_type": "code",
   "execution_count": 10,
   "metadata": {},
   "outputs": [
    {
     "name": "stdout",
     "output_type": "stream",
     "text": [
      "['YearBuilt', 'YearRemodAdd', 'GarageYrBlt', 'YrSold', 'GarageYrBltnan']\n"
     ]
    }
   ],
   "source": [
    "#find out the year column\n",
    "Year_var=[feature for feature in test_data.columns if \"Yr\" in feature or 'Year' in feature or \"yr\" in feature]\n",
    "print(Year_var)"
   ]
  },
  {
   "cell_type": "code",
   "execution_count": 11,
   "metadata": {},
   "outputs": [],
   "source": [
    "for feature in Year_var:\n",
    "    if feature !=\"YrSold\":\n",
    "        test_data[feature]=test_data[\"YrSold\"] - test_data[feature]"
   ]
  },
  {
   "cell_type": "code",
   "execution_count": 12,
   "metadata": {},
   "outputs": [
    {
     "data": {
      "text/html": [
       "<div>\n",
       "<style scoped>\n",
       "    .dataframe tbody tr th:only-of-type {\n",
       "        vertical-align: middle;\n",
       "    }\n",
       "\n",
       "    .dataframe tbody tr th {\n",
       "        vertical-align: top;\n",
       "    }\n",
       "\n",
       "    .dataframe thead th {\n",
       "        text-align: right;\n",
       "    }\n",
       "</style>\n",
       "<table border=\"1\" class=\"dataframe\">\n",
       "  <thead>\n",
       "    <tr style=\"text-align: right;\">\n",
       "      <th></th>\n",
       "      <th>YearBuilt</th>\n",
       "      <th>YearRemodAdd</th>\n",
       "      <th>GarageYrBlt</th>\n",
       "      <th>YrSold</th>\n",
       "      <th>GarageYrBltnan</th>\n",
       "    </tr>\n",
       "  </thead>\n",
       "  <tbody>\n",
       "    <tr>\n",
       "      <th>0</th>\n",
       "      <td>49</td>\n",
       "      <td>49</td>\n",
       "      <td>49.0</td>\n",
       "      <td>2010</td>\n",
       "      <td>2010</td>\n",
       "    </tr>\n",
       "    <tr>\n",
       "      <th>1</th>\n",
       "      <td>52</td>\n",
       "      <td>52</td>\n",
       "      <td>52.0</td>\n",
       "      <td>2010</td>\n",
       "      <td>2010</td>\n",
       "    </tr>\n",
       "    <tr>\n",
       "      <th>2</th>\n",
       "      <td>13</td>\n",
       "      <td>12</td>\n",
       "      <td>13.0</td>\n",
       "      <td>2010</td>\n",
       "      <td>2010</td>\n",
       "    </tr>\n",
       "    <tr>\n",
       "      <th>3</th>\n",
       "      <td>12</td>\n",
       "      <td>12</td>\n",
       "      <td>12.0</td>\n",
       "      <td>2010</td>\n",
       "      <td>2010</td>\n",
       "    </tr>\n",
       "    <tr>\n",
       "      <th>4</th>\n",
       "      <td>18</td>\n",
       "      <td>18</td>\n",
       "      <td>18.0</td>\n",
       "      <td>2010</td>\n",
       "      <td>2010</td>\n",
       "    </tr>\n",
       "    <tr>\n",
       "      <th>...</th>\n",
       "      <td>...</td>\n",
       "      <td>...</td>\n",
       "      <td>...</td>\n",
       "      <td>...</td>\n",
       "      <td>...</td>\n",
       "    </tr>\n",
       "    <tr>\n",
       "      <th>1454</th>\n",
       "      <td>36</td>\n",
       "      <td>36</td>\n",
       "      <td>27.0</td>\n",
       "      <td>2006</td>\n",
       "      <td>2005</td>\n",
       "    </tr>\n",
       "    <tr>\n",
       "      <th>1455</th>\n",
       "      <td>36</td>\n",
       "      <td>36</td>\n",
       "      <td>36.0</td>\n",
       "      <td>2006</td>\n",
       "      <td>2006</td>\n",
       "    </tr>\n",
       "    <tr>\n",
       "      <th>1456</th>\n",
       "      <td>46</td>\n",
       "      <td>10</td>\n",
       "      <td>46.0</td>\n",
       "      <td>2006</td>\n",
       "      <td>2006</td>\n",
       "    </tr>\n",
       "    <tr>\n",
       "      <th>1457</th>\n",
       "      <td>14</td>\n",
       "      <td>14</td>\n",
       "      <td>27.0</td>\n",
       "      <td>2006</td>\n",
       "      <td>2005</td>\n",
       "    </tr>\n",
       "    <tr>\n",
       "      <th>1458</th>\n",
       "      <td>13</td>\n",
       "      <td>12</td>\n",
       "      <td>13.0</td>\n",
       "      <td>2006</td>\n",
       "      <td>2006</td>\n",
       "    </tr>\n",
       "  </tbody>\n",
       "</table>\n",
       "<p>1459 rows × 5 columns</p>\n",
       "</div>"
      ],
      "text/plain": [
       "      YearBuilt  YearRemodAdd  GarageYrBlt  YrSold  GarageYrBltnan\n",
       "0            49            49         49.0    2010            2010\n",
       "1            52            52         52.0    2010            2010\n",
       "2            13            12         13.0    2010            2010\n",
       "3            12            12         12.0    2010            2010\n",
       "4            18            18         18.0    2010            2010\n",
       "...         ...           ...          ...     ...             ...\n",
       "1454         36            36         27.0    2006            2005\n",
       "1455         36            36         36.0    2006            2006\n",
       "1456         46            10         46.0    2006            2006\n",
       "1457         14            14         27.0    2006            2005\n",
       "1458         13            12         13.0    2006            2006\n",
       "\n",
       "[1459 rows x 5 columns]"
      ]
     },
     "execution_count": 12,
     "metadata": {},
     "output_type": "execute_result"
    }
   ],
   "source": [
    "test_data[['YearBuilt', 'YearRemodAdd', 'GarageYrBlt', 'YrSold', 'GarageYrBltnan']]"
   ]
  },
  {
   "cell_type": "code",
   "execution_count": 13,
   "metadata": {},
   "outputs": [
    {
     "data": {
      "image/png": "[encoded data removed]",
      "text/plain": [
       "<Figure size 432x288 with 1 Axes>"
      ]
     },
     "metadata": {
      "needs_background": "light"
     },
     "output_type": "display_data"
    },
    {
     "data": {
      "image/png": "[encoded data removed]",
      "text/plain": [
       "<Figure size 432x288 with 1 Axes>"
      ]
     },
     "metadata": {
      "needs_background": "light"
     },
     "output_type": "display_data"
    },
    {
     "data": {
      "image/png": "[encoded data removed]",
      "text/plain": [
       "<Figure size 432x288 with 1 Axes>"
      ]
     },
     "metadata": {
      "needs_background": "light"
     },
     "output_type": "display_data"
    },
    {
     "data": {
      "image/png": "[encoded data removed]",
      "text/plain": [
       "<Figure size 432x288 with 1 Axes>"
      ]
     },
     "metadata": {
      "needs_background": "light"
     },
     "output_type": "display_data"
    },
    {
     "data": {
      "image/png": "[encoded data removed]",
      "text/plain": [
       "<Figure size 432x288 with 1 Axes>"
      ]
     },
     "metadata": {
      "needs_background": "light"
     },
     "output_type": "display_data"
    },
    {
     "data": {
      "image/png": "[encoded data removed]",
      "text/plain": [
       "<Figure size 432x288 with 1 Axes>"
      ]
     },
     "metadata": {
      "needs_background": "light"
     },
     "output_type": "display_data"
    },
    {
     "data": {
      "image/png": "[encoded data removed]",
      "text/plain": [
       "<Figure size 432x288 with 1 Axes>"
      ]
     },
     "metadata": {
      "needs_background": "light"
     },
     "output_type": "display_data"
    },
    {
     "data": {
      "image/png": "[encoded data removed]",
      "text/plain": [
       "<Figure size 432x288 with 1 Axes>"
      ]
     },
     "metadata": {
      "needs_background": "light"
     },
     "output_type": "display_data"
    },
    {
     "data": {
      "image/png": "[encoded data removed]",
      "text/plain": [
       "<Figure size 432x288 with 1 Axes>"
      ]
     },
     "metadata": {
      "needs_background": "light"
     },
     "output_type": "display_data"
    },
    {
     "data": {
      "image/png": "[encoded data removed]",
      "text/plain": [
       "<Figure size 432x288 with 1 Axes>"
      ]
     },
     "metadata": {
      "needs_background": "light"
     },
     "output_type": "display_data"
    },
    {
     "data": {
      "image/png": "[encoded data removed]",
      "text/plain": [
       "<Figure size 432x288 with 1 Axes>"
      ]
     },
     "metadata": {
      "needs_background": "light"
     },
     "output_type": "display_data"
    },
    {
     "data": {
      "image/png": "[encoded data removed]",
      "text/plain": [
       "<Figure size 432x288 with 1 Axes>"
      ]
     },
     "metadata": {
      "needs_background": "light"
     },
     "output_type": "display_data"
    },
    {
     "data": {
      "image/png": "[encoded data removed]",
      "text/plain": [
       "<Figure size 432x288 with 1 Axes>"
      ]
     },
     "metadata": {
      "needs_background": "light"
     },
     "output_type": "display_data"
    },
    {
     "data": {
      "image/png": "[encoded data removed]",
      "text/plain": [
       "<Figure size 432x288 with 1 Axes>"
      ]
     },
     "metadata": {
      "needs_background": "light"
     },
     "output_type": "display_data"
    },
    {
     "data": {
      "image/png": "[encoded data removed]",
      "text/plain": [
       "<Figure size 432x288 with 1 Axes>"
      ]
     },
     "metadata": {
      "needs_background": "light"
     },
     "output_type": "display_data"
    },
    {
     "data": {
      "image/png": "[encoded data removed]",
      "text/plain": [
       "<Figure size 432x288 with 1 Axes>"
      ]
     },
     "metadata": {
      "needs_background": "light"
     },
     "output_type": "display_data"
    },
    {
     "data": {
      "image/png": "[encoded data removed]",
      "text/plain": [
       "<Figure size 432x288 with 1 Axes>"
      ]
     },
     "metadata": {
      "needs_background": "light"
     },
     "output_type": "display_data"
    },
    {
     "data": {
      "image/png": "[encoded data removed]",
      "text/plain": [
       "<Figure size 432x288 with 1 Axes>"
      ]
     },
     "metadata": {
      "needs_background": "light"
     },
     "output_type": "display_data"
    },
    {
     "data": {
      "image/png": "[encoded data removed]",
      "text/plain": [
       "<Figure size 432x288 with 1 Axes>"
      ]
     },
     "metadata": {
      "needs_background": "light"
     },
     "output_type": "display_data"
    },
    {
     "data": {
      "image/png": "[encoded data removed]",
      "text/plain": [
       "<Figure size 432x288 with 1 Axes>"
      ]
     },
     "metadata": {
      "needs_background": "light"
     },
     "output_type": "display_data"
    },
    {
     "data": {
      "image/png": "[encoded data removed]",
      "text/plain": [
       "<Figure size 432x288 with 1 Axes>"
      ]
     },
     "metadata": {
      "needs_background": "light"
     },
     "output_type": "display_data"
    },
    {
     "data": {
      "image/png": "[encoded data removed]",
      "text/plain": [
       "<Figure size 432x288 with 1 Axes>"
      ]
     },
     "metadata": {
      "needs_background": "light"
     },
     "output_type": "display_data"
    },
    {
     "data": {
      "image/png": "[encoded data removed]",
      "text/plain": [
       "<Figure size 432x288 with 1 Axes>"
      ]
     },
     "metadata": {
      "needs_background": "light"
     },
     "output_type": "display_data"
    },
    {
     "data": {
      "image/png": "[encoded data removed]",
      "text/plain": [
       "<Figure size 432x288 with 1 Axes>"
      ]
     },
     "metadata": {
      "needs_background": "light"
     },
     "output_type": "display_data"
    },
    {
     "data": {
      "image/png": "[encoded data removed]",
      "text/plain": [
       "<Figure size 432x288 with 1 Axes>"
      ]
     },
     "metadata": {
      "needs_background": "light"
     },
     "output_type": "display_data"
    },
    {
     "data": {
      "image/png": "[encoded data removed]",
      "text/plain": [
       "<Figure size 432x288 with 1 Axes>"
      ]
     },
     "metadata": {
      "needs_background": "light"
     },
     "output_type": "display_data"
    },
    {
     "data": {
      "image/png": "[encoded data removed]",
      "text/plain": [
       "<Figure size 432x288 with 1 Axes>"
      ]
     },
     "metadata": {
      "needs_background": "light"
     },
     "output_type": "display_data"
    },
    {
     "data": {
      "image/png": "[encoded data removed]",
      "text/plain": [
       "<Figure size 432x288 with 1 Axes>"
      ]
     },
     "metadata": {
      "needs_background": "light"
     },
     "output_type": "display_data"
    },
    {
     "data": {
      "image/png": "[encoded data removed]",
      "text/plain": [
       "<Figure size 432x288 with 1 Axes>"
      ]
     },
     "metadata": {
      "needs_background": "light"
     },
     "output_type": "display_data"
    },
    {
     "data": {
      "image/png": "[encoded data removed]",
      "text/plain": [
       "<Figure size 432x288 with 1 Axes>"
      ]
     },
     "metadata": {
      "needs_background": "light"
     },
     "output_type": "display_data"
    },
    {
     "data": {
      "image/png": "[encoded data removed]",
      "text/plain": [
       "<Figure size 432x288 with 1 Axes>"
      ]
     },
     "metadata": {
      "needs_background": "light"
     },
     "output_type": "display_data"
    },
    {
     "data": {
      "image/png": "[encoded data removed]",
      "text/plain": [
       "<Figure size 432x288 with 1 Axes>"
      ]
     },
     "metadata": {
      "needs_background": "light"
     },
     "output_type": "display_data"
    }
   ],
   "source": [
    "continuous_var=[feature for feature in num_var if feature not in Year_var+['Id']]\n",
    "for feature in continuous_var:\n",
    "    data=test_data.copy()\n",
    "    data[feature].hist(bins=25)\n",
    "    plt.xlabel(feature)\n",
    "    plt.title(feature)\n",
    "    plt.show()"
   ]
  },
  {
   "cell_type": "code",
   "execution_count": 14,
   "metadata": {},
   "outputs": [],
   "source": [
    "continuous_var=[feature for feature in num_var if len(test_data[feature].unique())<25 and feature not in [\"Id\"]+ Year_var]\n",
    "for feature in continuous_var:\n",
    "    if 0 in test_data[feature].unique():\n",
    "        pass\n",
    "    else:\n",
    "        test_data[feature]=np.log(test_data[feature])\n"
   ]
  },
  {
   "cell_type": "code",
   "execution_count": 15,
   "metadata": {},
   "outputs": [
    {
     "data": {
      "text/html": [
       "<div>\n",
       "<style scoped>\n",
       "    .dataframe tbody tr th:only-of-type {\n",
       "        vertical-align: middle;\n",
       "    }\n",
       "\n",
       "    .dataframe tbody tr th {\n",
       "        vertical-align: top;\n",
       "    }\n",
       "\n",
       "    .dataframe thead th {\n",
       "        text-align: right;\n",
       "    }\n",
       "</style>\n",
       "<table border=\"1\" class=\"dataframe\">\n",
       "  <thead>\n",
       "    <tr style=\"text-align: right;\">\n",
       "      <th></th>\n",
       "      <th>Id</th>\n",
       "      <th>MSSubClass</th>\n",
       "      <th>MSZoning</th>\n",
       "      <th>LotFrontage</th>\n",
       "      <th>LotArea</th>\n",
       "      <th>Street</th>\n",
       "      <th>Alley</th>\n",
       "      <th>LotShape</th>\n",
       "      <th>LandContour</th>\n",
       "      <th>Utilities</th>\n",
       "      <th>...</th>\n",
       "      <th>MiscVal</th>\n",
       "      <th>MoSold</th>\n",
       "      <th>YrSold</th>\n",
       "      <th>SaleType</th>\n",
       "      <th>SaleCondition</th>\n",
       "      <th>LotFrontagenan</th>\n",
       "      <th>MasVnrAreanan</th>\n",
       "      <th>BsmtFullBathnan</th>\n",
       "      <th>BsmtHalfBathnan</th>\n",
       "      <th>GarageYrBltnan</th>\n",
       "    </tr>\n",
       "  </thead>\n",
       "  <tbody>\n",
       "    <tr>\n",
       "      <th>0</th>\n",
       "      <td>1461</td>\n",
       "      <td>2.995732</td>\n",
       "      <td>RH</td>\n",
       "      <td>80.0</td>\n",
       "      <td>11622</td>\n",
       "      <td>Pave</td>\n",
       "      <td>Missing</td>\n",
       "      <td>Reg</td>\n",
       "      <td>Lvl</td>\n",
       "      <td>AllPub</td>\n",
       "      <td>...</td>\n",
       "      <td>0</td>\n",
       "      <td>1.791759</td>\n",
       "      <td>2010</td>\n",
       "      <td>WD</td>\n",
       "      <td>Normal</td>\n",
       "      <td>0</td>\n",
       "      <td>0</td>\n",
       "      <td>0</td>\n",
       "      <td>0</td>\n",
       "      <td>2010</td>\n",
       "    </tr>\n",
       "    <tr>\n",
       "      <th>1</th>\n",
       "      <td>1462</td>\n",
       "      <td>2.995732</td>\n",
       "      <td>RL</td>\n",
       "      <td>81.0</td>\n",
       "      <td>14267</td>\n",
       "      <td>Pave</td>\n",
       "      <td>Missing</td>\n",
       "      <td>IR1</td>\n",
       "      <td>Lvl</td>\n",
       "      <td>AllPub</td>\n",
       "      <td>...</td>\n",
       "      <td>12500</td>\n",
       "      <td>1.791759</td>\n",
       "      <td>2010</td>\n",
       "      <td>WD</td>\n",
       "      <td>Normal</td>\n",
       "      <td>0</td>\n",
       "      <td>0</td>\n",
       "      <td>0</td>\n",
       "      <td>0</td>\n",
       "      <td>2010</td>\n",
       "    </tr>\n",
       "    <tr>\n",
       "      <th>2</th>\n",
       "      <td>1463</td>\n",
       "      <td>4.094345</td>\n",
       "      <td>RL</td>\n",
       "      <td>74.0</td>\n",
       "      <td>13830</td>\n",
       "      <td>Pave</td>\n",
       "      <td>Missing</td>\n",
       "      <td>IR1</td>\n",
       "      <td>Lvl</td>\n",
       "      <td>AllPub</td>\n",
       "      <td>...</td>\n",
       "      <td>0</td>\n",
       "      <td>1.098612</td>\n",
       "      <td>2010</td>\n",
       "      <td>WD</td>\n",
       "      <td>Normal</td>\n",
       "      <td>0</td>\n",
       "      <td>0</td>\n",
       "      <td>0</td>\n",
       "      <td>0</td>\n",
       "      <td>2010</td>\n",
       "    </tr>\n",
       "    <tr>\n",
       "      <th>3</th>\n",
       "      <td>1464</td>\n",
       "      <td>4.094345</td>\n",
       "      <td>RL</td>\n",
       "      <td>78.0</td>\n",
       "      <td>9978</td>\n",
       "      <td>Pave</td>\n",
       "      <td>Missing</td>\n",
       "      <td>IR1</td>\n",
       "      <td>Lvl</td>\n",
       "      <td>AllPub</td>\n",
       "      <td>...</td>\n",
       "      <td>0</td>\n",
       "      <td>1.791759</td>\n",
       "      <td>2010</td>\n",
       "      <td>WD</td>\n",
       "      <td>Normal</td>\n",
       "      <td>0</td>\n",
       "      <td>0</td>\n",
       "      <td>0</td>\n",
       "      <td>0</td>\n",
       "      <td>2010</td>\n",
       "    </tr>\n",
       "    <tr>\n",
       "      <th>4</th>\n",
       "      <td>1465</td>\n",
       "      <td>4.787492</td>\n",
       "      <td>RL</td>\n",
       "      <td>43.0</td>\n",
       "      <td>5005</td>\n",
       "      <td>Pave</td>\n",
       "      <td>Missing</td>\n",
       "      <td>IR1</td>\n",
       "      <td>HLS</td>\n",
       "      <td>AllPub</td>\n",
       "      <td>...</td>\n",
       "      <td>0</td>\n",
       "      <td>0.000000</td>\n",
       "      <td>2010</td>\n",
       "      <td>WD</td>\n",
       "      <td>Normal</td>\n",
       "      <td>0</td>\n",
       "      <td>0</td>\n",
       "      <td>0</td>\n",
       "      <td>0</td>\n",
       "      <td>2010</td>\n",
       "    </tr>\n",
       "  </tbody>\n",
       "</table>\n",
       "<p>5 rows × 85 columns</p>\n",
       "</div>"
      ],
      "text/plain": [
       "     Id  MSSubClass MSZoning  LotFrontage  LotArea Street    Alley LotShape  \\\n",
       "0  1461    2.995732       RH         80.0    11622   Pave  Missing      Reg   \n",
       "1  1462    2.995732       RL         81.0    14267   Pave  Missing      IR1   \n",
       "2  1463    4.094345       RL         74.0    13830   Pave  Missing      IR1   \n",
       "3  1464    4.094345       RL         78.0     9978   Pave  Missing      IR1   \n",
       "4  1465    4.787492       RL         43.0     5005   Pave  Missing      IR1   \n",
       "\n",
       "  LandContour Utilities  ... MiscVal    MoSold YrSold SaleType SaleCondition  \\\n",
       "0         Lvl    AllPub  ...       0  1.791759   2010       WD        Normal   \n",
       "1         Lvl    AllPub  ...   12500  1.791759   2010       WD        Normal   \n",
       "2         Lvl    AllPub  ...       0  1.098612   2010       WD        Normal   \n",
       "3         Lvl    AllPub  ...       0  1.791759   2010       WD        Normal   \n",
       "4         HLS    AllPub  ...       0  0.000000   2010       WD        Normal   \n",
       "\n",
       "  LotFrontagenan MasVnrAreanan  BsmtFullBathnan  BsmtHalfBathnan  \\\n",
       "0              0             0                0                0   \n",
       "1              0             0                0                0   \n",
       "2              0             0                0                0   \n",
       "3              0             0                0                0   \n",
       "4              0             0                0                0   \n",
       "\n",
       "   GarageYrBltnan  \n",
       "0            2010  \n",
       "1            2010  \n",
       "2            2010  \n",
       "3            2010  \n",
       "4            2010  \n",
       "\n",
       "[5 rows x 85 columns]"
      ]
     },
     "execution_count": 15,
     "metadata": {},
     "output_type": "execute_result"
    }
   ],
   "source": [
    "test_data.head()"
   ]
  },
  {
   "cell_type": "markdown",
   "metadata": {},
   "source": [
    "## Feature Scaling"
   ]
  },
  {
   "cell_type": "code",
   "execution_count": 16,
   "metadata": {},
   "outputs": [
    {
     "name": "stdout",
     "output_type": "stream",
     "text": [
      "MSZoning has 6 unique category and the category names are ['RH' 'RL' 'RM' 'FV' 'C (all)' 'Missing']\n",
      "Street has 2 unique category and the category names are ['Pave' 'Grvl']\n",
      "Alley has 3 unique category and the category names are ['Missing' 'Pave' 'Grvl']\n",
      "LotShape has 4 unique category and the category names are ['Reg' 'IR1' 'IR2' 'IR3']\n",
      "LandContour has 4 unique category and the category names are ['Lvl' 'HLS' 'Bnk' 'Low']\n",
      "Utilities has 2 unique category and the category names are ['AllPub' 'Missing']\n",
      "LotConfig has 5 unique category and the category names are ['Inside' 'Corner' 'FR2' 'CulDSac' 'FR3']\n",
      "LandSlope has 3 unique category and the category names are ['Gtl' 'Mod' 'Sev']\n",
      "Neighborhood has 25 unique category and the category names are ['NAmes' 'Gilbert' 'StoneBr' 'BrDale' 'NPkVill' 'NridgHt' 'Blmngtn'\n",
      " 'NoRidge' 'Somerst' 'SawyerW' 'Sawyer' 'NWAmes' 'OldTown' 'BrkSide'\n",
      " 'ClearCr' 'SWISU' 'Edwards' 'CollgCr' 'Crawfor' 'Blueste' 'IDOTRR'\n",
      " 'Mitchel' 'Timber' 'MeadowV' 'Veenker']\n",
      "Condition1 has 9 unique category and the category names are ['Feedr' 'Norm' 'PosN' 'RRNe' 'Artery' 'RRNn' 'PosA' 'RRAn' 'RRAe']\n",
      "Condition2 has 5 unique category and the category names are ['Norm' 'Feedr' 'PosA' 'PosN' 'Artery']\n",
      "BldgType has 5 unique category and the category names are ['1Fam' 'TwnhsE' 'Twnhs' 'Duplex' '2fmCon']\n",
      "HouseStyle has 7 unique category and the category names are ['1Story' '2Story' 'SLvl' '1.5Fin' 'SFoyer' '2.5Unf' '1.5Unf']\n",
      "RoofStyle has 6 unique category and the category names are ['Gable' 'Hip' 'Gambrel' 'Flat' 'Mansard' 'Shed']\n",
      "RoofMatl has 4 unique category and the category names are ['CompShg' 'Tar&Grv' 'WdShake' 'WdShngl']\n",
      "Exterior1st has 13 unique category and the category names are ['VinylSd' 'Wd Sdng' 'HdBoard' 'Plywood' 'MetalSd' 'CemntBd' 'WdShing'\n",
      " 'BrkFace' 'AsbShng' 'BrkComm' 'Stucco' 'AsphShn' nan 'CBlock']\n",
      "Exterior2nd has 15 unique category and the category names are ['VinylSd' 'Wd Sdng' 'HdBoard' 'Plywood' 'MetalSd' 'Brk Cmn' 'CmentBd'\n",
      " 'ImStucc' 'Wd Shng' 'AsbShng' 'Stucco' 'CBlock' 'BrkFace' 'AsphShn' nan\n",
      " 'Stone']\n",
      "MasVnrType has 5 unique category and the category names are ['None' 'BrkFace' 'Stone' 'BrkCmn' 'Missing']\n",
      "ExterQual has 4 unique category and the category names are ['TA' 'Gd' 'Ex' 'Fa']\n",
      "ExterCond has 5 unique category and the category names are ['TA' 'Gd' 'Fa' 'Po' 'Ex']\n",
      "Foundation has 6 unique category and the category names are ['CBlock' 'PConc' 'BrkTil' 'Stone' 'Slab' 'Wood']\n",
      "BsmtQual has 5 unique category and the category names are ['TA' 'Gd' 'Ex' 'Fa' 'Missing']\n",
      "BsmtCond has 5 unique category and the category names are ['TA' 'Po' 'Fa' 'Gd' 'Missing']\n",
      "BsmtExposure has 5 unique category and the category names are ['No' 'Gd' 'Mn' 'Av' 'Missing']\n",
      "BsmtFinType1 has 7 unique category and the category names are ['Rec' 'ALQ' 'GLQ' 'Unf' 'BLQ' 'LwQ' 'Missing']\n",
      "BsmtFinType2 has 7 unique category and the category names are ['LwQ' 'Unf' 'Rec' 'BLQ' 'GLQ' 'ALQ' 'Missing']\n",
      "Heating has 4 unique category and the category names are ['GasA' 'GasW' 'Grav' 'Wall']\n",
      "HeatingQC has 5 unique category and the category names are ['TA' 'Gd' 'Ex' 'Fa' 'Po']\n",
      "CentralAir has 2 unique category and the category names are ['Y' 'N']\n",
      "Electrical has 4 unique category and the category names are ['SBrkr' 'FuseA' 'FuseF' 'FuseP']\n",
      "KitchenQual has 4 unique category and the category names are ['TA' 'Gd' 'Ex' 'Fa' nan]\n",
      "Functional has 8 unique category and the category names are ['Typ' 'Min2' 'Min1' 'Mod' 'Maj1' 'Sev' 'Maj2' 'Missing']\n",
      "FireplaceQu has 6 unique category and the category names are ['Missing' 'TA' 'Gd' 'Po' 'Fa' 'Ex']\n",
      "GarageType has 7 unique category and the category names are ['Attchd' 'Detchd' 'BuiltIn' 'Missing' 'Basment' '2Types' 'CarPort']\n",
      "GarageFinish has 4 unique category and the category names are ['Unf' 'Fin' 'RFn' 'Missing']\n",
      "GarageQual has 5 unique category and the category names are ['TA' 'Missing' 'Fa' 'Gd' 'Po']\n",
      "GarageCond has 6 unique category and the category names are ['TA' 'Missing' 'Fa' 'Gd' 'Po' 'Ex']\n",
      "PavedDrive has 3 unique category and the category names are ['Y' 'N' 'P']\n",
      "PoolQC has 3 unique category and the category names are ['Missing' 'Ex' 'Gd']\n",
      "Fence has 5 unique category and the category names are ['MnPrv' 'Missing' 'GdPrv' 'GdWo' 'MnWw']\n",
      "MiscFeature has 4 unique category and the category names are ['Missing' 'Gar2' 'Shed' 'Othr']\n",
      "SaleType has 9 unique category and the category names are ['WD' 'COD' 'New' 'ConLD' 'Oth' 'Con' 'ConLw' 'ConLI' 'CWD' nan]\n",
      "SaleCondition has 6 unique category and the category names are ['Normal' 'Partial' 'Abnorml' 'Family' 'Alloca' 'AdjLand']\n"
     ]
    }
   ],
   "source": [
    "for feature in cat_var:\n",
    "    print(f'{feature} has {test_data[feature].nunique()} unique category and the category names are {test_data[feature].unique()}')"
   ]
  },
  {
   "cell_type": "code",
   "execution_count": 17,
   "metadata": {},
   "outputs": [],
   "source": [
    "from sklearn.preprocessing import LabelEncoder\n",
    "\n",
    "# Initialize the label encoder\n",
    "label_encoder = LabelEncoder()\n",
    "\n",
    "# Fit and transform the categorical column in your test dataset\n",
    "for feature in cat_var:\n",
    "    test_data[feature] = test_data[feature].astype(str)\n",
    "    label_encoder.fit(test_data[feature])\n",
    "    test_data[feature] = label_encoder.transform(test_data[feature])\n"
   ]
  },
  {
   "cell_type": "code",
   "execution_count": 18,
   "metadata": {},
   "outputs": [
    {
     "data": {
      "text/html": [
       "<div>\n",
       "<style scoped>\n",
       "    .dataframe tbody tr th:only-of-type {\n",
       "        vertical-align: middle;\n",
       "    }\n",
       "\n",
       "    .dataframe tbody tr th {\n",
       "        vertical-align: top;\n",
       "    }\n",
       "\n",
       "    .dataframe thead th {\n",
       "        text-align: right;\n",
       "    }\n",
       "</style>\n",
       "<table border=\"1\" class=\"dataframe\">\n",
       "  <thead>\n",
       "    <tr style=\"text-align: right;\">\n",
       "      <th></th>\n",
       "      <th>Id</th>\n",
       "      <th>MSSubClass</th>\n",
       "      <th>MSZoning</th>\n",
       "      <th>LotFrontage</th>\n",
       "      <th>LotArea</th>\n",
       "      <th>Street</th>\n",
       "      <th>Alley</th>\n",
       "      <th>LotShape</th>\n",
       "      <th>LandContour</th>\n",
       "      <th>Utilities</th>\n",
       "      <th>...</th>\n",
       "      <th>MiscVal</th>\n",
       "      <th>MoSold</th>\n",
       "      <th>YrSold</th>\n",
       "      <th>SaleType</th>\n",
       "      <th>SaleCondition</th>\n",
       "      <th>LotFrontagenan</th>\n",
       "      <th>MasVnrAreanan</th>\n",
       "      <th>BsmtFullBathnan</th>\n",
       "      <th>BsmtHalfBathnan</th>\n",
       "      <th>GarageYrBltnan</th>\n",
       "    </tr>\n",
       "  </thead>\n",
       "  <tbody>\n",
       "    <tr>\n",
       "      <th>0</th>\n",
       "      <td>1461</td>\n",
       "      <td>2.995732</td>\n",
       "      <td>3</td>\n",
       "      <td>80.0</td>\n",
       "      <td>11622</td>\n",
       "      <td>1</td>\n",
       "      <td>1</td>\n",
       "      <td>3</td>\n",
       "      <td>3</td>\n",
       "      <td>0</td>\n",
       "      <td>...</td>\n",
       "      <td>0</td>\n",
       "      <td>1.791759</td>\n",
       "      <td>2010</td>\n",
       "      <td>8</td>\n",
       "      <td>4</td>\n",
       "      <td>0</td>\n",
       "      <td>0</td>\n",
       "      <td>0</td>\n",
       "      <td>0</td>\n",
       "      <td>2010</td>\n",
       "    </tr>\n",
       "    <tr>\n",
       "      <th>1</th>\n",
       "      <td>1462</td>\n",
       "      <td>2.995732</td>\n",
       "      <td>4</td>\n",
       "      <td>81.0</td>\n",
       "      <td>14267</td>\n",
       "      <td>1</td>\n",
       "      <td>1</td>\n",
       "      <td>0</td>\n",
       "      <td>3</td>\n",
       "      <td>0</td>\n",
       "      <td>...</td>\n",
       "      <td>12500</td>\n",
       "      <td>1.791759</td>\n",
       "      <td>2010</td>\n",
       "      <td>8</td>\n",
       "      <td>4</td>\n",
       "      <td>0</td>\n",
       "      <td>0</td>\n",
       "      <td>0</td>\n",
       "      <td>0</td>\n",
       "      <td>2010</td>\n",
       "    </tr>\n",
       "    <tr>\n",
       "      <th>2</th>\n",
       "      <td>1463</td>\n",
       "      <td>4.094345</td>\n",
       "      <td>4</td>\n",
       "      <td>74.0</td>\n",
       "      <td>13830</td>\n",
       "      <td>1</td>\n",
       "      <td>1</td>\n",
       "      <td>0</td>\n",
       "      <td>3</td>\n",
       "      <td>0</td>\n",
       "      <td>...</td>\n",
       "      <td>0</td>\n",
       "      <td>1.098612</td>\n",
       "      <td>2010</td>\n",
       "      <td>8</td>\n",
       "      <td>4</td>\n",
       "      <td>0</td>\n",
       "      <td>0</td>\n",
       "      <td>0</td>\n",
       "      <td>0</td>\n",
       "      <td>2010</td>\n",
       "    </tr>\n",
       "    <tr>\n",
       "      <th>3</th>\n",
       "      <td>1464</td>\n",
       "      <td>4.094345</td>\n",
       "      <td>4</td>\n",
       "      <td>78.0</td>\n",
       "      <td>9978</td>\n",
       "      <td>1</td>\n",
       "      <td>1</td>\n",
       "      <td>0</td>\n",
       "      <td>3</td>\n",
       "      <td>0</td>\n",
       "      <td>...</td>\n",
       "      <td>0</td>\n",
       "      <td>1.791759</td>\n",
       "      <td>2010</td>\n",
       "      <td>8</td>\n",
       "      <td>4</td>\n",
       "      <td>0</td>\n",
       "      <td>0</td>\n",
       "      <td>0</td>\n",
       "      <td>0</td>\n",
       "      <td>2010</td>\n",
       "    </tr>\n",
       "    <tr>\n",
       "      <th>4</th>\n",
       "      <td>1465</td>\n",
       "      <td>4.787492</td>\n",
       "      <td>4</td>\n",
       "      <td>43.0</td>\n",
       "      <td>5005</td>\n",
       "      <td>1</td>\n",
       "      <td>1</td>\n",
       "      <td>0</td>\n",
       "      <td>1</td>\n",
       "      <td>0</td>\n",
       "      <td>...</td>\n",
       "      <td>0</td>\n",
       "      <td>0.000000</td>\n",
       "      <td>2010</td>\n",
       "      <td>8</td>\n",
       "      <td>4</td>\n",
       "      <td>0</td>\n",
       "      <td>0</td>\n",
       "      <td>0</td>\n",
       "      <td>0</td>\n",
       "      <td>2010</td>\n",
       "    </tr>\n",
       "  </tbody>\n",
       "</table>\n",
       "<p>5 rows × 85 columns</p>\n",
       "</div>"
      ],
      "text/plain": [
       "     Id  MSSubClass  MSZoning  LotFrontage  LotArea  Street  Alley  LotShape  \\\n",
       "0  1461    2.995732         3         80.0    11622       1      1         3   \n",
       "1  1462    2.995732         4         81.0    14267       1      1         0   \n",
       "2  1463    4.094345         4         74.0    13830       1      1         0   \n",
       "3  1464    4.094345         4         78.0     9978       1      1         0   \n",
       "4  1465    4.787492         4         43.0     5005       1      1         0   \n",
       "\n",
       "   LandContour  Utilities  ...  MiscVal    MoSold  YrSold  SaleType  \\\n",
       "0            3          0  ...        0  1.791759    2010         8   \n",
       "1            3          0  ...    12500  1.791759    2010         8   \n",
       "2            3          0  ...        0  1.098612    2010         8   \n",
       "3            3          0  ...        0  1.791759    2010         8   \n",
       "4            1          0  ...        0  0.000000    2010         8   \n",
       "\n",
       "   SaleCondition  LotFrontagenan  MasVnrAreanan  BsmtFullBathnan  \\\n",
       "0              4               0              0                0   \n",
       "1              4               0              0                0   \n",
       "2              4               0              0                0   \n",
       "3              4               0              0                0   \n",
       "4              4               0              0                0   \n",
       "\n",
       "   BsmtHalfBathnan  GarageYrBltnan  \n",
       "0                0            2010  \n",
       "1                0            2010  \n",
       "2                0            2010  \n",
       "3                0            2010  \n",
       "4                0            2010  \n",
       "\n",
       "[5 rows x 85 columns]"
      ]
     },
     "execution_count": 18,
     "metadata": {},
     "output_type": "execute_result"
    }
   ],
   "source": [
    "test_data.head()"
   ]
  },
  {
   "cell_type": "code",
   "execution_count": 30,
   "metadata": {},
   "outputs": [],
   "source": [
    "from sklearn.preprocessing import StandardScaler\n",
    "\n",
    "# Initialize the StandardScaler\n",
    "scaler = StandardScaler()\n",
    "\n",
    "# Define the numerical features to scale (exclude the \"ID\" column)\n",
    "scale_features = [feature for feature in test_data.columns if feature != \"ID\"]\n",
    "\n",
    "# Fit the scaler on the test data (only the numerical features)\n",
    "scaler.fit(test_data[scale_features])\n",
    "\n",
    "# Transform the test data (only the numerical features) using the same scaler\n",
    "scaled_test_data = scaler.transform(test_data[scale_features])\n",
    "\n",
    "# Create a DataFrame for the scaled numerical features\n",
    "scaled_test_df = pd.DataFrame(scaled_test_data, columns=scale_features)\n",
    "\n",
    "# Concatenate the \"ID\" column and the scaled numerical features\n",
    "test_data_scaled = pd.concat([test_data[\"Id\"].reset_index(drop=True), scaled_test_df], axis=1)\n"
   ]
  },
  {
   "cell_type": "code",
   "execution_count": 32,
   "metadata": {},
   "outputs": [
    {
     "data": {
      "text/html": [
       "<div>\n",
       "<style scoped>\n",
       "    .dataframe tbody tr th:only-of-type {\n",
       "        vertical-align: middle;\n",
       "    }\n",
       "\n",
       "    .dataframe tbody tr th {\n",
       "        vertical-align: top;\n",
       "    }\n",
       "\n",
       "    .dataframe thead th {\n",
       "        text-align: right;\n",
       "    }\n",
       "</style>\n",
       "<table border=\"1\" class=\"dataframe\">\n",
       "  <thead>\n",
       "    <tr style=\"text-align: right;\">\n",
       "      <th></th>\n",
       "      <th>Id</th>\n",
       "      <th>Id</th>\n",
       "      <th>MSSubClass</th>\n",
       "      <th>MSZoning</th>\n",
       "      <th>LotFrontage</th>\n",
       "      <th>LotArea</th>\n",
       "      <th>Street</th>\n",
       "      <th>Alley</th>\n",
       "      <th>LotShape</th>\n",
       "      <th>LandContour</th>\n",
       "      <th>...</th>\n",
       "      <th>MiscVal</th>\n",
       "      <th>MoSold</th>\n",
       "      <th>YrSold</th>\n",
       "      <th>SaleType</th>\n",
       "      <th>SaleCondition</th>\n",
       "      <th>LotFrontagenan</th>\n",
       "      <th>MasVnrAreanan</th>\n",
       "      <th>BsmtFullBathnan</th>\n",
       "      <th>BsmtHalfBathnan</th>\n",
       "      <th>GarageYrBltnan</th>\n",
       "    </tr>\n",
       "  </thead>\n",
       "  <tbody>\n",
       "    <tr>\n",
       "      <th>0</th>\n",
       "      <td>1461</td>\n",
       "      <td>-1.730864</td>\n",
       "      <td>-1.120208</td>\n",
       "      <td>-1.071528</td>\n",
       "      <td>0.567330</td>\n",
       "      <td>0.363929</td>\n",
       "      <td>0.06426</td>\n",
       "      <td>0.083814</td>\n",
       "      <td>0.742620</td>\n",
       "      <td>0.31870</td>\n",
       "      <td>...</td>\n",
       "      <td>-0.092244</td>\n",
       "      <td>0.200591</td>\n",
       "      <td>1.713905</td>\n",
       "      <td>0.324245</td>\n",
       "      <td>0.201383</td>\n",
       "      <td>-0.429247</td>\n",
       "      <td>-0.101921</td>\n",
       "      <td>-0.03705</td>\n",
       "      <td>-0.03705</td>\n",
       "      <td>1.732039</td>\n",
       "    </tr>\n",
       "    <tr>\n",
       "      <th>1</th>\n",
       "      <td>1462</td>\n",
       "      <td>-1.728490</td>\n",
       "      <td>-1.120208</td>\n",
       "      <td>0.044360</td>\n",
       "      <td>0.615963</td>\n",
       "      <td>0.897861</td>\n",
       "      <td>0.06426</td>\n",
       "      <td>0.083814</td>\n",
       "      <td>-1.384637</td>\n",
       "      <td>0.31870</td>\n",
       "      <td>...</td>\n",
       "      <td>19.730438</td>\n",
       "      <td>0.200591</td>\n",
       "      <td>1.713905</td>\n",
       "      <td>0.324245</td>\n",
       "      <td>0.201383</td>\n",
       "      <td>-0.429247</td>\n",
       "      <td>-0.101921</td>\n",
       "      <td>-0.03705</td>\n",
       "      <td>-0.03705</td>\n",
       "      <td>1.732039</td>\n",
       "    </tr>\n",
       "    <tr>\n",
       "      <th>2</th>\n",
       "      <td>1463</td>\n",
       "      <td>-1.726115</td>\n",
       "      <td>0.420628</td>\n",
       "      <td>0.044360</td>\n",
       "      <td>0.275532</td>\n",
       "      <td>0.809646</td>\n",
       "      <td>0.06426</td>\n",
       "      <td>0.083814</td>\n",
       "      <td>-1.384637</td>\n",
       "      <td>0.31870</td>\n",
       "      <td>...</td>\n",
       "      <td>-0.092244</td>\n",
       "      <td>-1.020176</td>\n",
       "      <td>1.713905</td>\n",
       "      <td>0.324245</td>\n",
       "      <td>0.201383</td>\n",
       "      <td>-0.429247</td>\n",
       "      <td>-0.101921</td>\n",
       "      <td>-0.03705</td>\n",
       "      <td>-0.03705</td>\n",
       "      <td>1.732039</td>\n",
       "    </tr>\n",
       "    <tr>\n",
       "      <th>3</th>\n",
       "      <td>1464</td>\n",
       "      <td>-1.723741</td>\n",
       "      <td>0.420628</td>\n",
       "      <td>0.044360</td>\n",
       "      <td>0.470064</td>\n",
       "      <td>0.032064</td>\n",
       "      <td>0.06426</td>\n",
       "      <td>0.083814</td>\n",
       "      <td>-1.384637</td>\n",
       "      <td>0.31870</td>\n",
       "      <td>...</td>\n",
       "      <td>-0.092244</td>\n",
       "      <td>0.200591</td>\n",
       "      <td>1.713905</td>\n",
       "      <td>0.324245</td>\n",
       "      <td>0.201383</td>\n",
       "      <td>-0.429247</td>\n",
       "      <td>-0.101921</td>\n",
       "      <td>-0.03705</td>\n",
       "      <td>-0.03705</td>\n",
       "      <td>1.732039</td>\n",
       "    </tr>\n",
       "    <tr>\n",
       "      <th>4</th>\n",
       "      <td>1465</td>\n",
       "      <td>-1.721367</td>\n",
       "      <td>1.392788</td>\n",
       "      <td>0.044360</td>\n",
       "      <td>-1.232092</td>\n",
       "      <td>-0.971808</td>\n",
       "      <td>0.06426</td>\n",
       "      <td>0.083814</td>\n",
       "      <td>-1.384637</td>\n",
       "      <td>-2.53396</td>\n",
       "      <td>...</td>\n",
       "      <td>-0.092244</td>\n",
       "      <td>-2.955047</td>\n",
       "      <td>1.713905</td>\n",
       "      <td>0.324245</td>\n",
       "      <td>0.201383</td>\n",
       "      <td>-0.429247</td>\n",
       "      <td>-0.101921</td>\n",
       "      <td>-0.03705</td>\n",
       "      <td>-0.03705</td>\n",
       "      <td>1.732039</td>\n",
       "    </tr>\n",
       "  </tbody>\n",
       "</table>\n",
       "<p>5 rows × 86 columns</p>\n",
       "</div>"
      ],
      "text/plain": [
       "     Id        Id  MSSubClass  MSZoning  LotFrontage   LotArea   Street  \\\n",
       "0  1461 -1.730864   -1.120208 -1.071528     0.567330  0.363929  0.06426   \n",
       "1  1462 -1.728490   -1.120208  0.044360     0.615963  0.897861  0.06426   \n",
       "2  1463 -1.726115    0.420628  0.044360     0.275532  0.809646  0.06426   \n",
       "3  1464 -1.723741    0.420628  0.044360     0.470064  0.032064  0.06426   \n",
       "4  1465 -1.721367    1.392788  0.044360    -1.232092 -0.971808  0.06426   \n",
       "\n",
       "      Alley  LotShape  LandContour  ...    MiscVal    MoSold    YrSold  \\\n",
       "0  0.083814  0.742620      0.31870  ...  -0.092244  0.200591  1.713905   \n",
       "1  0.083814 -1.384637      0.31870  ...  19.730438  0.200591  1.713905   \n",
       "2  0.083814 -1.384637      0.31870  ...  -0.092244 -1.020176  1.713905   \n",
       "3  0.083814 -1.384637      0.31870  ...  -0.092244  0.200591  1.713905   \n",
       "4  0.083814 -1.384637     -2.53396  ...  -0.092244 -2.955047  1.713905   \n",
       "\n",
       "   SaleType  SaleCondition  LotFrontagenan  MasVnrAreanan  BsmtFullBathnan  \\\n",
       "0  0.324245       0.201383       -0.429247      -0.101921         -0.03705   \n",
       "1  0.324245       0.201383       -0.429247      -0.101921         -0.03705   \n",
       "2  0.324245       0.201383       -0.429247      -0.101921         -0.03705   \n",
       "3  0.324245       0.201383       -0.429247      -0.101921         -0.03705   \n",
       "4  0.324245       0.201383       -0.429247      -0.101921         -0.03705   \n",
       "\n",
       "   BsmtHalfBathnan  GarageYrBltnan  \n",
       "0         -0.03705        1.732039  \n",
       "1         -0.03705        1.732039  \n",
       "2         -0.03705        1.732039  \n",
       "3         -0.03705        1.732039  \n",
       "4         -0.03705        1.732039  \n",
       "\n",
       "[5 rows x 86 columns]"
      ]
     },
     "execution_count": 32,
     "metadata": {},
     "output_type": "execute_result"
    }
   ],
   "source": [
    "test_data_scaled.head()"
   ]
  },
  {
   "cell_type": "code",
   "execution_count": null,
   "metadata": {},
   "outputs": [],
   "source": []
  }
 ],
 "metadata": {
  "kernelspec": {
   "display_name": "Python 3",
   "language": "python",
   "name": "python3"
  },
  "language_info": {
   "codemirror_mode": {
    "name": "ipython",
    "version": 3
   },
   "file_extension": ".py",
   "mimetype": "text/x-python",
   "name": "python",
   "nbconvert_exporter": "python",
   "pygments_lexer": "ipython3",
   "version": "3.8.5"
  }
 },
 "nbformat": 4,
 "nbformat_minor": 4
}
